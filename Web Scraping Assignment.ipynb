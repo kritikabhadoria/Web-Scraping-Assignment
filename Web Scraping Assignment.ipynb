{
 "cells": [
  {
   "cell_type": "markdown",
   "id": "b0747047-cc66-4fbc-84c7-bce45509bda4",
   "metadata": {},
   "source": [
    "**Q1. What is Web Scraping? Why is it Used? Give three areas where Web Scraping is used to get data.**\n",
    "\n",
    "**Web scraping** is the process of extracting data from websites. It involves fetching HTML content from web pages and then parsing it to extract the desired information. Web scraping is used to collect data for various purposes such as:\n",
    "\n",
    "1. **Business Intelligence**: Companies scrape data from competitors' websites to analyze pricing strategies, product offerings, customer reviews, etc., for making informed business decisions.\n",
    "\n",
    "2. **Research and Analysis**: Researchers and analysts scrape data from various sources on the internet to gather information for studies, market trends analysis, sentiment analysis, and more.\n",
    "\n",
    "3. **Content Aggregation**: News websites, job portals, and real estate platforms often use web scraping to aggregate content from different sources and present it in one place for users.\n",
    "\n",
    "**Q2. What are the different methods used for Web Scraping?**\n",
    "\n",
    "There are various methods used for web scraping, including:\n",
    "\n",
    "1. **Manual Scraping**: Manually copying and pasting data from web pages into a spreadsheet or text file. It's suitable for small-scale scraping but not efficient for large-scale data extraction.\n",
    "\n",
    "2. **Using Web Scraping Tools**: There are several tools and software available that allow users to scrape websites without writing code. Examples include Octoparse, ParseHub, and Import.io.\n",
    "\n",
    "3. **Writing Custom Scripts**: Developers often write custom scripts using programming languages like Python, JavaScript, or Ruby to scrape websites. Popular libraries for web scraping in Python include BeautifulSoup and Scrapy.\n",
    "\n",
    "**Q3. What is Beautiful Soup? Why is it used?**\n",
    "\n",
    "**Beautiful Soup** is a Python library used for web scraping. It provides functions and methods to parse HTML and XML documents, extract data from them, and navigate the parse tree. Beautiful Soup is used because:\n",
    "\n",
    "- It simplifies the process of parsing HTML and XML documents.\n",
    "- It provides powerful methods for navigating the parse tree and searching for specific elements based on tags, attributes, etc.\n",
    "- It handles poorly formatted HTML gracefully, making it suitable for scraping data from real-world websites where the HTML may not be perfectly structured.\n",
    "\n",
    "**Q4. Why is Flask used in this Web Scraping project?**\n",
    "\n",
    "Flask is a lightweight web framework in Python that is often used for building web applications and APIs. In a web scraping project, Flask might be used for various purposes:\n",
    "\n",
    "- **Building a Web Interface**: Flask can be used to create a web interface where users can input URLs or search terms for scraping, view scraped data, and interact with the scraping process.\n",
    "\n",
    "- **API Development**: Flask can expose endpoints to serve scraped data in a structured format (e.g., JSON) for consumption by other applications.\n",
    "\n",
    "- **Task Scheduling**: Flask applications can incorporate task scheduling libraries like Celery to automate the scraping process at regular intervals.\n",
    "\n",
    "**Q5. Write the names of AWS services used in this project. Also, explain the use of each service.**\n",
    "\n",
    "In a web scraping project hosted on AWS, several services might be utilized:\n",
    "\n",
    "1. **Amazon EC2 (Elastic Compute Cloud)**: EC2 provides scalable computing capacity in the cloud. It can be used to host the web scraping application and execute the scraping scripts. EC2 instances can be configured with the necessary dependencies and libraries required for web scraping.\n",
    "\n",
    "2. **Amazon S3 (Simple Storage Service)**: S3 is used for storing scraped data. After scraping, the data can be saved as files and stored in S3 buckets. S3 provides high durability, scalability, and availability for data storage.\n",
    "\n",
    "3. **Amazon RDS (Relational Database Service)**: RDS can be used to store structured data extracted from websites. If the scraped data needs to be stored in a relational database format, RDS offers managed database services supporting various database engines like MySQL, PostgreSQL, etc.\n",
    "\n",
    "4. **AWS Lambda**: Lambda can be used for serverless computing in the project. It's suitable for running lightweight tasks such as data processing, transformation, or triggering scraping scripts in response to events.\n",
    "\n",
    "5. **Amazon API Gateway**: If the scraped data needs to be exposed via APIs for consumption by other applications, API Gateway can be used to create and manage APIs. It enables easy integration with other AWS services and provides features like authentication, throttling, and monitoring.\n",
    "\n",
    "These services together provide a scalable, reliable, and cost-effective infrastructure for hosting and running web scraping projects on AWS."
   ]
  },
  {
   "cell_type": "code",
   "execution_count": null,
   "id": "aa4b5cca-a1c4-4934-a154-ffb82c6b22cf",
   "metadata": {},
   "outputs": [],
   "source": []
  }
 ],
 "metadata": {
  "kernelspec": {
   "display_name": "Python 3 (ipykernel)",
   "language": "python",
   "name": "python3"
  },
  "language_info": {
   "codemirror_mode": {
    "name": "ipython",
    "version": 3
   },
   "file_extension": ".py",
   "mimetype": "text/x-python",
   "name": "python",
   "nbconvert_exporter": "python",
   "pygments_lexer": "ipython3",
   "version": "3.10.8"
  }
 },
 "nbformat": 4,
 "nbformat_minor": 5
}
